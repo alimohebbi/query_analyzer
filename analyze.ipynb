{
 "cells": [
  {
   "cell_type": "code",
   "execution_count": 38,
   "metadata": {
    "collapsed": true
   },
   "outputs": [],
   "source": [
    "import os\n",
    "import pandas as pd\n",
    "from config import Config\n",
    "from evaluators.perfect_evaluator import PerfectEvaluator\n",
    "from server.query_util import MigrationInfo\n",
    "\n",
    "log_path = '/Users/usiusi/Documents/Report/Test-Reuse/Reports/report22/qlogs'\n",
    "logs = []\n",
    "config = Config()"
   ]
  },
  {
   "cell_type": "code",
   "execution_count": 39,
   "outputs": [],
   "source": [
    "def read_log(log_path):\n",
    "    for path, subdirs, files in os.walk(log_path):\n",
    "        for name in files:\n",
    "            if 'csv' in name and not 'raw' in name:\n",
    "                log = pd.read_csv(os.path.join(path, name))\n",
    "                logs.append(log)\n",
    "    return pd.concat(logs).fillna('')\n",
    "\n",
    "\n",
    "def select_config(df, sm_config):\n",
    "    criteria = (df['word_embedding'] == sm_config['word_embedding']) & (df['algorithm'] == sm_config['algorithm']) & \\\n",
    "               (df['training_set'] == sm_config['training_set']) &\\\n",
    "               (df['descriptors'] == sm_config['descriptors']) & (df['src_class'] != 'Button')\n",
    "    results = df[criteria]\n",
    "    return results[~results['src'].str.contains('a6|a7|a8')]\n",
    "\n",
    "\n",
    "def remove_duplicated_q(df: pd.DataFrame):\n",
    "    df['index'] = df['index'].astype(float)\n",
    "    df.sort_values(by=['index'], inplace=True, ascending=False)\n",
    "    columns = ['src', 'target','task', 'src_id', 'src_text', 'src_content_desc', 'target_id', 'target_text',\n",
    "               'target_content_desc']\n",
    "    return df.drop_duplicates(subset=columns, keep='first')\n",
    "\n",
    "\n",
    "def select_top_scored(df: pd.DataFrame):\n",
    "    df['score'] = pd.to_numeric(df['score'])\n",
    "    df = df[df['score']>0]\n",
    "    return df.groupby('index').agg('max')\n",
    "\n",
    "def get_sm_configs():\n",
    "    sm_configs = pd.read_csv('config_sample.csv')\n",
    "    sm_configs['unique_q'] = ''\n",
    "    sm_configs['correct_q'] = ''\n",
    "    sm_configs['gt_exist'] = ''\n",
    "    sm_configs['ratio_corr_ext'] = ''\n",
    "    return sm_configs\n",
    "\n",
    "def count_q_in_gt(selected_q, top_scored_q):\n",
    "    correct_count = 0\n",
    "    exist_gt_count = 0\n",
    "    for index, row in top_scored_q.iterrows():\n",
    "        mig_info = MigrationInfo.set_info_from_log(row)\n",
    "        correct_count+=PerfectEvaluator.event_exist_in_gt(row, mig_info)\n",
    "    for index, row in selected_q.iterrows():\n",
    "        mig_info = MigrationInfo.set_info_from_log(row)\n",
    "        exist_gt_count+=PerfectEvaluator.event_exist_in_gt(row, mig_info)\n",
    "    return correct_count, exist_gt_count\n",
    "\n",
    "\n",
    "def add_mig_info_to_series(name, result_for_mig):\n",
    "    result_for_mig['src'] = name[0]\n",
    "    result_for_mig['target'] = name[1]\n",
    "    result_for_mig['task'] = name[2]\n",
    "    return result_for_mig\n",
    "\n",
    "\n",
    "def get_migration_groups(sm):\n",
    "    selected_q = select_config(total, sm)\n",
    "    selected_q = remove_duplicated_q(selected_q)\n",
    "    top_scored_q = select_top_scored(selected_q)\n",
    "    group_by = ['src', 'target', 'task']\n",
    "    top_score_groups = top_scored_q.reset_index().groupby(group_by)\n",
    "    selected_q_groups = selected_q.reset_index().groupby(group_by)\n",
    "    return selected_q_groups, top_score_groups\n",
    "\n",
    "def calc_migration_metrics(selected_q_group, sm, top_group):\n",
    "    correct_count, exist_gt_count = count_q_in_gt(selected_q_group, top_group)\n",
    "    sm['unique_q'] = top_group.shape[0]\n",
    "    sm['correct_q'] = correct_count\n",
    "    sm['gt_exist'] = exist_gt_count\n",
    "    sm['ratio_corr_ext'] = correct_count / exist_gt_count if exist_gt_count else 0\n",
    "    result_for_mig = pd.Series(data=sm)\n",
    "    return result_for_mig\n"
   ],
   "metadata": {
    "collapsed": false,
    "pycharm": {
     "name": "#%%\n"
    }
   }
  },
  {
   "cell_type": "code",
   "execution_count": 3,
   "outputs": [],
   "source": [
    "total = read_log(log_path)\n",
    "sm_configs = get_sm_configs()"
   ],
   "metadata": {
    "collapsed": false,
    "pycharm": {
     "name": "#%%\n"
    }
   }
  },
  {
   "cell_type": "code",
   "execution_count": null,
   "outputs": [],
   "source": [
    "\n",
    "def calc_gt_log_per_config():\n",
    "    for index, sm in sm_configs.iterrows():\n",
    "        selected_q = select_config(total, sm)\n",
    "        selected_q = remove_duplicated_q(selected_q)\n",
    "        top_scored_q = select_top_scored(selected_q)\n",
    "        correct_count, exist_gt_count = count_q_in_gt(selected_q, top_scored_q)\n",
    "        sm['unique_q'] = top_scored_q.shape[0]\n",
    "        sm['correct_q'] = correct_count\n",
    "        sm['gt_exist'] = exist_gt_count\n",
    "        sm['ratio_corr_ext'] = correct_count/exist_gt_count\n",
    "        sm_configs.to_csv('atm_gt.csv', index=False)\n"
   ],
   "metadata": {
    "collapsed": false,
    "pycharm": {
     "name": "#%%\n"
    }
   }
  },
  {
   "cell_type": "code",
   "execution_count": 4,
   "outputs": [],
   "source": [
    "\n",
    "\n",
    "\n",
    "results_for_a_config = []\n",
    "for index, sm in sm_configs.iterrows():\n",
    "    selected_q_groups, top_score_groups = get_migration_groups(sm)\n",
    "    for name, top_group in top_score_groups:\n",
    "        selected_q_group = selected_q_groups.get_group(name)\n",
    "        result_for_mig = calc_migration_metrics(selected_q_group, sm, top_group)\n",
    "        result_for_mig = add_mig_info_to_series(name, result_for_mig)\n",
    "        results_for_a_config.append(result_for_mig)\n",
    "\n",
    "config_df_result = pd.DataFrame(results_for_a_config)\n",
    "config_df_result.to_csv('mig_lvl_results_craft.csv', index=False)\n"
   ],
   "metadata": {
    "collapsed": false,
    "pycharm": {
     "name": "#%%\n"
    }
   }
  },
  {
   "cell_type": "code",
   "execution_count": 43,
   "outputs": [
    {
     "name": "stdout",
     "output_type": "stream",
     "text": [
      "\n"
     ]
    },
    {
     "ename": "KeyboardInterrupt",
     "evalue": "",
     "output_type": "error",
     "traceback": [
      "\u001B[0;31m---------------------------------------------------------------------------\u001B[0m",
      "\u001B[0;31mKeyboardInterrupt\u001B[0m                         Traceback (most recent call last)",
      "\u001B[0;32m<ipython-input-43-77f0359f25d7>\u001B[0m in \u001B[0;36m<module>\u001B[0;34m\u001B[0m\n\u001B[1;32m     41\u001B[0m \u001B[0;34m\u001B[0m\u001B[0m\n\u001B[1;32m     42\u001B[0m \u001B[0;31m# atm_gt_mig_lvl = group_gt_by_migration(atm_gt, 'atm')\u001B[0m\u001B[0;34m\u001B[0m\u001B[0;34m\u001B[0m\u001B[0;34m\u001B[0m\u001B[0m\n\u001B[0;32m---> 43\u001B[0;31m \u001B[0mcraft_gt_mig_lvl\u001B[0m \u001B[0;34m=\u001B[0m \u001B[0mgroup_gt_by_migration\u001B[0m\u001B[0;34m(\u001B[0m\u001B[0mcraft_gt\u001B[0m\u001B[0;34m,\u001B[0m \u001B[0;34m'craft'\u001B[0m\u001B[0;34m)\u001B[0m\u001B[0;34m\u001B[0m\u001B[0;34m\u001B[0m\u001B[0m\n\u001B[0m\u001B[1;32m     44\u001B[0m \u001B[0;34m\u001B[0m\u001B[0m\n\u001B[1;32m     45\u001B[0m \u001B[0;34m\u001B[0m\u001B[0m\n",
      "\u001B[0;32m<ipython-input-43-77f0359f25d7>\u001B[0m in \u001B[0;36mgroup_gt_by_migration\u001B[0;34m(gt_table, subjects)\u001B[0m\n\u001B[1;32m     28\u001B[0m         \u001B[0mcount_events_of_mig\u001B[0m \u001B[0;34m=\u001B[0m \u001B[0mgroup\u001B[0m\u001B[0;34m.\u001B[0m\u001B[0mshape\u001B[0m\u001B[0;34m[\u001B[0m\u001B[0;36m0\u001B[0m\u001B[0;34m]\u001B[0m\u001B[0;34m\u001B[0m\u001B[0;34m\u001B[0m\u001B[0m\n\u001B[1;32m     29\u001B[0m         \u001B[0;32mif\u001B[0m \u001B[0mname\u001B[0m\u001B[0;34m[\u001B[0m\u001B[0;36m0\u001B[0m\u001B[0;34m]\u001B[0m \u001B[0;34m==\u001B[0m \u001B[0;34m'a44'\u001B[0m \u001B[0;32mand\u001B[0m \u001B[0mname\u001B[0m\u001B[0;34m[\u001B[0m\u001B[0;36m1\u001B[0m\u001B[0;34m]\u001B[0m \u001B[0;34m==\u001B[0m \u001B[0;34m'a45'\u001B[0m\u001B[0;34m:\u001B[0m\u001B[0;34m\u001B[0m\u001B[0;34m\u001B[0m\u001B[0m\n\u001B[0;32m---> 30\u001B[0;31m             \u001B[0mprint\u001B[0m\u001B[0;34m(\u001B[0m\u001B[0;34m)\u001B[0m\u001B[0;34m\u001B[0m\u001B[0;34m\u001B[0m\u001B[0m\n\u001B[0m\u001B[1;32m     31\u001B[0m         \u001B[0mgt_mig_info\u001B[0m \u001B[0;34m=\u001B[0m \u001B[0;34m{\u001B[0m\u001B[0;34m'correct_q'\u001B[0m\u001B[0;34m:\u001B[0m \u001B[0mcount_events_of_mig\u001B[0m\u001B[0;34m}\u001B[0m\u001B[0;34m\u001B[0m\u001B[0;34m\u001B[0m\u001B[0m\n\u001B[1;32m     32\u001B[0m         \u001B[0mresult_for_mig\u001B[0m \u001B[0;34m=\u001B[0m \u001B[0madd_mig_info_to_series\u001B[0m\u001B[0;34m(\u001B[0m\u001B[0mname\u001B[0m\u001B[0;34m,\u001B[0m \u001B[0mgt_mig_info\u001B[0m\u001B[0;34m)\u001B[0m\u001B[0;34m\u001B[0m\u001B[0;34m\u001B[0m\u001B[0m\n",
      "\u001B[0;32m<ipython-input-43-77f0359f25d7>\u001B[0m in \u001B[0;36mgroup_gt_by_migration\u001B[0;34m(gt_table, subjects)\u001B[0m\n\u001B[1;32m     28\u001B[0m         \u001B[0mcount_events_of_mig\u001B[0m \u001B[0;34m=\u001B[0m \u001B[0mgroup\u001B[0m\u001B[0;34m.\u001B[0m\u001B[0mshape\u001B[0m\u001B[0;34m[\u001B[0m\u001B[0;36m0\u001B[0m\u001B[0;34m]\u001B[0m\u001B[0;34m\u001B[0m\u001B[0;34m\u001B[0m\u001B[0m\n\u001B[1;32m     29\u001B[0m         \u001B[0;32mif\u001B[0m \u001B[0mname\u001B[0m\u001B[0;34m[\u001B[0m\u001B[0;36m0\u001B[0m\u001B[0;34m]\u001B[0m \u001B[0;34m==\u001B[0m \u001B[0;34m'a44'\u001B[0m \u001B[0;32mand\u001B[0m \u001B[0mname\u001B[0m\u001B[0;34m[\u001B[0m\u001B[0;36m1\u001B[0m\u001B[0;34m]\u001B[0m \u001B[0;34m==\u001B[0m \u001B[0;34m'a45'\u001B[0m\u001B[0;34m:\u001B[0m\u001B[0;34m\u001B[0m\u001B[0;34m\u001B[0m\u001B[0m\n\u001B[0;32m---> 30\u001B[0;31m             \u001B[0mprint\u001B[0m\u001B[0;34m(\u001B[0m\u001B[0;34m)\u001B[0m\u001B[0;34m\u001B[0m\u001B[0;34m\u001B[0m\u001B[0m\n\u001B[0m\u001B[1;32m     31\u001B[0m         \u001B[0mgt_mig_info\u001B[0m \u001B[0;34m=\u001B[0m \u001B[0;34m{\u001B[0m\u001B[0;34m'correct_q'\u001B[0m\u001B[0;34m:\u001B[0m \u001B[0mcount_events_of_mig\u001B[0m\u001B[0;34m}\u001B[0m\u001B[0;34m\u001B[0m\u001B[0;34m\u001B[0m\u001B[0m\n\u001B[1;32m     32\u001B[0m         \u001B[0mresult_for_mig\u001B[0m \u001B[0;34m=\u001B[0m \u001B[0madd_mig_info_to_series\u001B[0m\u001B[0;34m(\u001B[0m\u001B[0mname\u001B[0m\u001B[0;34m,\u001B[0m \u001B[0mgt_mig_info\u001B[0m\u001B[0;34m)\u001B[0m\u001B[0;34m\u001B[0m\u001B[0;34m\u001B[0m\u001B[0m\n",
      "\u001B[0;32m_pydevd_bundle/pydevd_cython_darwin_37_64.pyx\u001B[0m in \u001B[0;36m_pydevd_bundle.pydevd_cython_darwin_37_64.SafeCallWrapper.__call__\u001B[0;34m()\u001B[0m\n",
      "\u001B[0;32m_pydevd_bundle/pydevd_cython_darwin_37_64.pyx\u001B[0m in \u001B[0;36m_pydevd_bundle.pydevd_cython_darwin_37_64.PyDBFrame.trace_dispatch\u001B[0;34m()\u001B[0m\n",
      "\u001B[0;32m_pydevd_bundle/pydevd_cython_darwin_37_64.pyx\u001B[0m in \u001B[0;36m_pydevd_bundle.pydevd_cython_darwin_37_64.PyDBFrame.trace_dispatch\u001B[0;34m()\u001B[0m\n",
      "\u001B[0;32m_pydevd_bundle/pydevd_cython_darwin_37_64.pyx\u001B[0m in \u001B[0;36m_pydevd_bundle.pydevd_cython_darwin_37_64.PyDBFrame.trace_dispatch\u001B[0;34m()\u001B[0m\n",
      "\u001B[0;32m_pydevd_bundle/pydevd_cython_darwin_37_64.pyx\u001B[0m in \u001B[0;36m_pydevd_bundle.pydevd_cython_darwin_37_64.PyDBFrame.do_wait_suspend\u001B[0;34m()\u001B[0m\n",
      "\u001B[0;32m/Applications/PyCharm.app/Contents/plugins/python/helpers/pydev/pydevd.py\u001B[0m in \u001B[0;36mdo_wait_suspend\u001B[0;34m(self, thread, frame, event, arg, send_suspend_message, is_unhandled_exception)\u001B[0m\n\u001B[1;32m   1145\u001B[0m \u001B[0;34m\u001B[0m\u001B[0m\n\u001B[1;32m   1146\u001B[0m         \u001B[0;32mwith\u001B[0m \u001B[0mself\u001B[0m\u001B[0;34m.\u001B[0m\u001B[0m_threads_suspended_single_notification\u001B[0m\u001B[0;34m.\u001B[0m\u001B[0mnotify_thread_suspended\u001B[0m\u001B[0;34m(\u001B[0m\u001B[0mthread_id\u001B[0m\u001B[0;34m,\u001B[0m \u001B[0mstop_reason\u001B[0m\u001B[0;34m)\u001B[0m\u001B[0;34m:\u001B[0m\u001B[0;34m\u001B[0m\u001B[0;34m\u001B[0m\u001B[0m\n\u001B[0;32m-> 1147\u001B[0;31m             \u001B[0mself\u001B[0m\u001B[0;34m.\u001B[0m\u001B[0m_do_wait_suspend\u001B[0m\u001B[0;34m(\u001B[0m\u001B[0mthread\u001B[0m\u001B[0;34m,\u001B[0m \u001B[0mframe\u001B[0m\u001B[0;34m,\u001B[0m \u001B[0mevent\u001B[0m\u001B[0;34m,\u001B[0m \u001B[0marg\u001B[0m\u001B[0;34m,\u001B[0m \u001B[0msuspend_type\u001B[0m\u001B[0;34m,\u001B[0m \u001B[0mfrom_this_thread\u001B[0m\u001B[0;34m)\u001B[0m\u001B[0;34m\u001B[0m\u001B[0;34m\u001B[0m\u001B[0m\n\u001B[0m\u001B[1;32m   1148\u001B[0m \u001B[0;34m\u001B[0m\u001B[0m\n\u001B[1;32m   1149\u001B[0m     \u001B[0;32mdef\u001B[0m \u001B[0m_do_wait_suspend\u001B[0m\u001B[0;34m(\u001B[0m\u001B[0mself\u001B[0m\u001B[0;34m,\u001B[0m \u001B[0mthread\u001B[0m\u001B[0;34m,\u001B[0m \u001B[0mframe\u001B[0m\u001B[0;34m,\u001B[0m \u001B[0mevent\u001B[0m\u001B[0;34m,\u001B[0m \u001B[0marg\u001B[0m\u001B[0;34m,\u001B[0m \u001B[0msuspend_type\u001B[0m\u001B[0;34m,\u001B[0m \u001B[0mfrom_this_thread\u001B[0m\u001B[0;34m)\u001B[0m\u001B[0;34m:\u001B[0m\u001B[0;34m\u001B[0m\u001B[0;34m\u001B[0m\u001B[0m\n",
      "\u001B[0;32m/Applications/PyCharm.app/Contents/plugins/python/helpers/pydev/pydevd.py\u001B[0m in \u001B[0;36m_do_wait_suspend\u001B[0;34m(self, thread, frame, event, arg, suspend_type, from_this_thread)\u001B[0m\n\u001B[1;32m   1160\u001B[0m \u001B[0;34m\u001B[0m\u001B[0m\n\u001B[1;32m   1161\u001B[0m                 \u001B[0mself\u001B[0m\u001B[0;34m.\u001B[0m\u001B[0mprocess_internal_commands\u001B[0m\u001B[0;34m(\u001B[0m\u001B[0;34m)\u001B[0m\u001B[0;34m\u001B[0m\u001B[0;34m\u001B[0m\u001B[0m\n\u001B[0;32m-> 1162\u001B[0;31m                 \u001B[0mtime\u001B[0m\u001B[0;34m.\u001B[0m\u001B[0msleep\u001B[0m\u001B[0;34m(\u001B[0m\u001B[0;36m0.01\u001B[0m\u001B[0;34m)\u001B[0m\u001B[0;34m\u001B[0m\u001B[0;34m\u001B[0m\u001B[0m\n\u001B[0m\u001B[1;32m   1163\u001B[0m \u001B[0;34m\u001B[0m\u001B[0m\n\u001B[1;32m   1164\u001B[0m         \u001B[0mself\u001B[0m\u001B[0;34m.\u001B[0m\u001B[0mcancel_async_evaluation\u001B[0m\u001B[0;34m(\u001B[0m\u001B[0mget_current_thread_id\u001B[0m\u001B[0;34m(\u001B[0m\u001B[0mthread\u001B[0m\u001B[0;34m)\u001B[0m\u001B[0;34m,\u001B[0m \u001B[0mstr\u001B[0m\u001B[0;34m(\u001B[0m\u001B[0mid\u001B[0m\u001B[0;34m(\u001B[0m\u001B[0mframe\u001B[0m\u001B[0;34m)\u001B[0m\u001B[0;34m)\u001B[0m\u001B[0;34m)\u001B[0m\u001B[0;34m\u001B[0m\u001B[0;34m\u001B[0m\u001B[0m\n",
      "\u001B[0;31mKeyboardInterrupt\u001B[0m: "
     ]
    }
   ],
   "source": [
    "def get_craft_gt():\n",
    "    gt_table = pd.read_csv(config.ground_truth).fillna('')\n",
    "    craft_gt = gt_table[~gt_table['src_app'].str.contains('Ex|Sh|No')].copy()\n",
    "    craft_gt['src_app'] = craft_gt.apply(lambda x: x['src_app'].split('b')[0], axis=1)\n",
    "    craft_gt['task'] = craft_gt.apply(lambda x: 'b' + x['target_app'].split('b')[1], axis=1)\n",
    "    craft_gt['target_app'] = craft_gt.apply(lambda x: x['target_app'].split('b')[0], axis=1)\n",
    "    craft_gt.rename(columns={'src_app': 'src', 'target_app': 'target'}, inplace=True)\n",
    "    return craft_gt\n",
    "\n",
    "\n",
    "def get_atm_gt():\n",
    "    gt_table = pd.read_csv(config.ground_truth).fillna('')\n",
    "    atm_gt = gt_table[gt_table['src_app'].str.contains('Ex|Sh|No')].copy()\n",
    "    atm_craft_map = {'ExpenseTracker': 'a6', 'NoteTaking': 'a7', 'ShoppingList': 'a8'}\n",
    "    for k in atm_craft_map.keys():\n",
    "        atm_gt['src_app'] = atm_gt.apply(lambda x: x['src_app'].replace(k,atm_craft_map[k]), axis=1)\n",
    "        atm_gt['target_app'] = atm_gt.apply(lambda x: x['target_app'].replace(k,atm_craft_map[k]), axis=1)\n",
    "    atm_gt['task'] = atm_gt.apply(lambda x: 'b' + x['target_app'][1] + '1', axis=1)\n",
    "    atm_gt.rename(columns={'src_app': 'src', 'target_app': 'target'}, inplace=True)\n",
    "    return atm_gt\n",
    "\n",
    "\n",
    "def group_gt_by_migration(gt_table, subjects):\n",
    "    results_for_a_config = []\n",
    "    group_by = ['src', 'target', 'task']\n",
    "    gt_groups = gt_table.reset_index().groupby(group_by)\n",
    "    for name, group in gt_groups:\n",
    "        count_events_of_mig = group.shape[0]\n",
    "        gt_mig_info = {'correct_q': count_events_of_mig}\n",
    "        result_for_mig = add_mig_info_to_series(name, gt_mig_info)\n",
    "        results_for_a_config.append(result_for_mig)\n",
    "\n",
    "    config_df_result = pd.DataFrame(results_for_a_config)\n",
    "    config_df_result['mig_name'] = config_df_result['src']+ ' - ' + config_df_result['target']+ ' - ' + config_df_result['task']\n",
    "    config_df_result[['mig_name', 'correct_q']].to_csv(f'gt_lvl_results_{subjects}.csv', index=False)\n",
    "\n",
    "craft_gt = get_craft_gt()\n",
    "atm_gt = get_atm_gt()\n",
    "\n",
    "# atm_gt_mig_lvl = group_gt_by_migration(atm_gt, 'atm')\n",
    "craft_gt_mig_lvl = group_gt_by_migration(craft_gt, 'craft')\n",
    "\n"
   ],
   "metadata": {
    "collapsed": false,
    "pycharm": {
     "name": "#%%\n"
    }
   }
  }
 ],
 "metadata": {
  "kernelspec": {
   "display_name": "Python 3",
   "language": "python",
   "name": "python3"
  },
  "language_info": {
   "codemirror_mode": {
    "name": "ipython",
    "version": 2
   },
   "file_extension": ".py",
   "mimetype": "text/x-python",
   "name": "python",
   "nbconvert_exporter": "python",
   "pygments_lexer": "ipython2",
   "version": "2.7.6"
  }
 },
 "nbformat": 4,
 "nbformat_minor": 0
}